{
 "cells": [
  {
   "cell_type": "code",
   "execution_count": 38,
   "id": "0878f807",
   "metadata": {},
   "outputs": [],
   "source": [
    "import dlib\n",
    "import sys\n",
    "import os\n",
    "import dlib\n",
    "import glob\n",
    "import cv2\n",
    "import matplotlib.pyplot as plt\n",
    "#https://pyimagesearch.com/2018/01/22/install-dlib-easy-complete-guide/"
   ]
  },
  {
   "cell_type": "code",
   "execution_count": 39,
   "id": "f20dce85",
   "metadata": {},
   "outputs": [],
   "source": [
    "face_rec_model_path = \"work_space/save/trust_id.dat\""
   ]
  },
  {
   "cell_type": "code",
   "execution_count": 40,
   "id": "e93d4a0e",
   "metadata": {},
   "outputs": [
    {
     "name": "stdout",
     "output_type": "stream",
     "text": [
      "<_dlib_pybind11.face_recognition_model_v1 object at 0x7f2b8b13e6b0>\n"
     ]
    }
   ],
   "source": [
    "facerec = dlib.face_recognition_model_v1(face_rec_model_path)\n",
    "print(facerec)"
   ]
  },
  {
   "cell_type": "code",
   "execution_count": 42,
   "id": "4070e613",
   "metadata": {},
   "outputs": [
    {
     "name": "stdout",
     "output_type": "stream",
     "text": [
      "(150, 150, 3)\n",
      "[[[ 30  30  32]\n",
      "  [ 35  35  36]\n",
      "  [ 39  39  41]\n",
      "  ...\n",
      "  [182 146 119]\n",
      "  [187 144 111]\n",
      "  [186 141 110]]\n",
      "\n",
      " [[ 39  39  41]\n",
      "  [ 41  41  43]\n",
      "  [ 50  50  51]\n",
      "  ...\n",
      "  [170 134 107]\n",
      "  [176 133 101]\n",
      "  [180 135 103]]\n",
      "\n",
      " [[ 40  40  41]\n",
      "  [ 41  41  43]\n",
      "  [ 45  45  47]\n",
      "  ...\n",
      "  [171 130 103]\n",
      "  [174 127  97]\n",
      "  [174 125  93]]\n",
      "\n",
      " ...\n",
      "\n",
      " [[ 23  24  26]\n",
      "  [ 29  30  32]\n",
      "  [ 55  56  58]\n",
      "  ...\n",
      "  [ 37  35  36]\n",
      "  [ 64  61  62]\n",
      "  [ 49  47  48]]\n",
      "\n",
      " [[ 11  12  14]\n",
      "  [ 23  24  26]\n",
      "  [ 42  43  45]\n",
      "  ...\n",
      "  [ 32  30  31]\n",
      "  [ 54  52  53]\n",
      "  [ 61  57  56]]\n",
      "\n",
      " [[ 17  18  20]\n",
      "  [ 16  17  19]\n",
      "  [ 30  31  33]\n",
      "  ...\n",
      "  [ 44  42  43]\n",
      "  [ 44  40  41]\n",
      "  [ 71  67  66]]]\n"
     ]
    }
   ],
   "source": [
    "f = \"/test_cuda/3.jpg\"\n",
    "img = cv2.imread(f)\n",
    "img = cv2.cvtColor(img, cv2.COLOR_BGR2RGB)\n",
    "img = cv2.resize(img, (150, 150))\n",
    "#plt.imshow(img)\n",
    "#plt.show()\n",
    "\n",
    "print(img.shape)\n",
    "print(img)\n",
    "embedding = facerec.compute_face_descriptor(img)\n",
    "#print(embedding)"
   ]
  },
  {
   "cell_type": "code",
   "execution_count": null,
   "id": "dc75f9a5",
   "metadata": {},
   "outputs": [],
   "source": []
  }
 ],
 "metadata": {
  "kernelspec": {
   "display_name": "Python 3 (ipykernel)",
   "language": "python",
   "name": "python3"
  },
  "language_info": {
   "codemirror_mode": {
    "name": "ipython",
    "version": 3
   },
   "file_extension": ".py",
   "mimetype": "text/x-python",
   "name": "python",
   "nbconvert_exporter": "python",
   "pygments_lexer": "ipython3",
   "version": "3.8.10"
  }
 },
 "nbformat": 4,
 "nbformat_minor": 5
}
