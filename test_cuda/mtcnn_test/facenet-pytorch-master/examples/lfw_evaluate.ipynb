{
 "cells": [
  {
   "cell_type": "markdown",
   "metadata": {},
   "source": [
    "### facenet-pytorch LFW evaluation\n",
    "This notebook demonstrates how to evaluate performance against the LFW dataset."
   ]
  },
  {
   "cell_type": "code",
   "execution_count": 1,
   "metadata": {
    "collapsed": false,
    "jupyter": {
     "outputs_hidden": false
    },
    "pycharm": {
     "name": "#%%\n"
    }
   },
   "outputs": [],
   "source": [
    "from facenet_pytorch import MTCNN, InceptionResnetV1, fixed_image_standardization, training, extract_face\n",
    "import torch\n",
    "from torch.utils.data import DataLoader, SubsetRandomSampler, SequentialSampler\n",
    "from torchvision import datasets, transforms\n",
    "import numpy as np\n",
    "import os"
   ]
  },
  {
   "cell_type": "code",
   "execution_count": 2,
   "metadata": {
    "collapsed": false,
    "jupyter": {
     "outputs_hidden": false
    },
    "pycharm": {
     "name": "#%%\n"
    }
   },
   "outputs": [],
   "source": [
    "data_dir = '/test_cuda/lfw'\n",
    "pairs_path = '/test_cuda/pairs.txt'\n",
    "\n",
    "batch_size = 16\n",
    "epochs = 15\n",
    "workers = 16"
   ]
  },
  {
   "cell_type": "code",
   "execution_count": 3,
   "metadata": {
    "collapsed": false,
    "jupyter": {
     "outputs_hidden": false
    },
    "pycharm": {
     "name": "#%%\n"
    }
   },
   "outputs": [
    {
     "name": "stdout",
     "output_type": "stream",
     "text": [
      "Running on device: cuda:0\n"
     ]
    }
   ],
   "source": [
    "device = torch.device('cuda:0' if torch.cuda.is_available() else 'cpu')\n",
    "print('Running on device: {}'.format(device))"
   ]
  },
  {
   "cell_type": "code",
   "execution_count": 4,
   "metadata": {
    "collapsed": false,
    "jupyter": {
     "outputs_hidden": false
    },
    "pycharm": {
     "name": "#%%\n"
    }
   },
   "outputs": [],
   "source": [
    "mtcnn = MTCNN(\n",
    "    image_size=160,\n",
    "    margin=14,\n",
    "    device=device,\n",
    "    selection_method='center_weighted_size'\n",
    ")"
   ]
  },
  {
   "cell_type": "code",
   "execution_count": 5,
   "metadata": {
    "collapsed": false,
    "jupyter": {
     "outputs_hidden": false
    },
    "pycharm": {
     "name": "#%%\n"
    }
   },
   "outputs": [],
   "source": [
    "# Define the data loader for the input set of images\n",
    "orig_img_ds = datasets.ImageFolder(data_dir, transform=None)"
   ]
  },
  {
   "cell_type": "code",
   "execution_count": 6,
   "metadata": {
    "collapsed": false,
    "jupyter": {
     "outputs_hidden": false
    },
    "pycharm": {
     "name": "#%%\n"
    }
   },
   "outputs": [],
   "source": [
    "\n",
    "# overwrites class labels in dataset with path so path can be used for saving output in mtcnn batches\n",
    "orig_img_ds.samples = [\n",
    "    (p, p)\n",
    "    for p, _ in orig_img_ds.samples\n",
    "]\n",
    "\n",
    "loader = DataLoader(\n",
    "    orig_img_ds,\n",
    "    num_workers=workers,\n",
    "    batch_size=batch_size,\n",
    "    collate_fn=training.collate_pil\n",
    ")\n"
   ]
  },
  {
   "cell_type": "code",
   "execution_count": 7,
   "metadata": {},
   "outputs": [
    {
     "name": "stdout",
     "output_type": "stream",
     "text": [
      "Batch 828 of 828"
     ]
    }
   ],
   "source": [
    "crop_paths = []\n",
    "box_probs = []\n",
    "\n",
    "for i, (x, b_paths) in enumerate(loader):\n",
    "    crops = [p.replace(data_dir, data_dir + '_cropped2') for p in b_paths]\n",
    "    #mtcnn(x, save_path=crops)\n",
    "    crop_paths.extend(crops)\n",
    "    print('\\rBatch {} of {}'.format(i + 1, len(loader)), end='')"
   ]
  },
  {
   "cell_type": "code",
   "execution_count": null,
   "metadata": {},
   "outputs": [],
   "source": [
    "print(crop_paths)"
   ]
  },
  {
   "cell_type": "code",
   "execution_count": 9,
   "metadata": {
    "collapsed": false,
    "jupyter": {
     "outputs_hidden": false
    },
    "pycharm": {
     "name": "#%%\n"
    }
   },
   "outputs": [
    {
     "ename": "NameError",
     "evalue": "name 'mtcnn' is not defined",
     "output_type": "error",
     "traceback": [
      "\u001b[0;31m---------------------------------------------------------------------------\u001b[0m",
      "\u001b[0;31mNameError\u001b[0m                                 Traceback (most recent call last)",
      "Cell \u001b[0;32mIn[9], line 2\u001b[0m\n\u001b[1;32m      1\u001b[0m \u001b[38;5;66;03m# Remove mtcnn to reduce GPU memory usage\u001b[39;00m\n\u001b[0;32m----> 2\u001b[0m \u001b[38;5;28;01mdel\u001b[39;00m mtcnn\n\u001b[1;32m      3\u001b[0m torch\u001b[38;5;241m.\u001b[39mcuda\u001b[38;5;241m.\u001b[39mempty_cache()\n",
      "\u001b[0;31mNameError\u001b[0m: name 'mtcnn' is not defined"
     ]
    }
   ],
   "source": [
    "# Remove mtcnn to reduce GPU memory usage\n",
    "del mtcnn\n",
    "torch.cuda.empty_cache()"
   ]
  },
  {
   "cell_type": "code",
   "execution_count": 4,
   "metadata": {
    "collapsed": false,
    "jupyter": {
     "outputs_hidden": false
    },
    "pycharm": {
     "name": "#%%\n"
    }
   },
   "outputs": [],
   "source": [
    "# create dataset and data loaders from cropped images output from MTCNN\n",
    "\n",
    "trans = transforms.Compose([\n",
    "    np.float32,\n",
    "    transforms.ToTensor(),\n",
    "    fixed_image_standardization\n",
    "])\n",
    "\n",
    "dataset = datasets.ImageFolder('/test_cuda/lfw_cropped', transform=trans)\n",
    "\n",
    "embed_loader = DataLoader(\n",
    "    dataset,\n",
    "    num_workers=workers,\n",
    "    batch_size=batch_size,\n",
    "    sampler=SequentialSampler(dataset)\n",
    ")"
   ]
  },
  {
   "cell_type": "code",
   "execution_count": 5,
   "metadata": {
    "collapsed": false,
    "jupyter": {
     "outputs_hidden": false
    },
    "pycharm": {
     "name": "#%%\n"
    }
   },
   "outputs": [],
   "source": [
    "# Load pretrained resnet model\n",
    "resnet = InceptionResnetV1(\n",
    "    classify=False,\n",
    "    pretrained='vggface2'\n",
    ").to(device)"
   ]
  },
  {
   "cell_type": "code",
   "execution_count": 6,
   "metadata": {
    "collapsed": false,
    "jupyter": {
     "outputs_hidden": false
    },
    "pycharm": {
     "name": "#%%\n"
    }
   },
   "outputs": [],
   "source": [
    "classes = []\n",
    "embeddings = []\n",
    "resnet.eval()\n",
    "with torch.no_grad():\n",
    "    for xb, yb in embed_loader:\n",
    "        xb = xb.to(device)\n",
    "        b_embeddings = resnet(xb)\n",
    "        b_embeddings = b_embeddings.to('cpu').numpy()\n",
    "        classes.extend(yb.numpy())\n",
    "        embeddings.extend(b_embeddings)"
   ]
  },
  {
   "cell_type": "code",
   "execution_count": null,
   "metadata": {
    "collapsed": false,
    "jupyter": {
     "outputs_hidden": false
    },
    "pycharm": {
     "name": "#%%\n"
    }
   },
   "outputs": [],
   "source": [
    "crop_path = []\n",
    "for i in os.listdir('/test_cuda/lfw_cropped'):\n",
    "    cropped = os.path.join('/test_cuda/lfw_cropped', i)\n",
    "    for j in os.listdir(cropped):\n",
    "        final = os.path.join(cropped, j)    \n",
    "        crop_path.append(final)\n",
    "\n",
    "crop_path = sorted(crop_path)\n",
    "print(crop_path)"
   ]
  },
  {
   "cell_type": "code",
   "execution_count": 8,
   "metadata": {},
   "outputs": [],
   "source": [
    "embeddings_dict = dict(zip(crop_path, embeddings))"
   ]
  },
  {
   "cell_type": "markdown",
   "metadata": {},
   "source": [
    "#### Evaluate embeddings by using distance metrics to perform verification on the official LFW test set.\n",
    "\n",
    "The functions in the next block are copy pasted from `facenet.src.lfw`. Unfortunately that module has an absolute import from `facenet`, so can't be imported from the submodule\n",
    "\n",
    "added functionality to return false positive and false negatives"
   ]
  },
  {
   "cell_type": "code",
   "execution_count": 9,
   "metadata": {
    "collapsed": false,
    "jupyter": {
     "outputs_hidden": false
    },
    "pycharm": {
     "name": "#%%\n"
    }
   },
   "outputs": [],
   "source": [
    "from sklearn.model_selection import KFold\n",
    "from scipy import interpolate\n",
    "\n",
    "# LFW functions taken from David Sandberg's FaceNet implementation\n",
    "def distance(embeddings1, embeddings2, distance_metric=0):\n",
    "    if distance_metric==0:\n",
    "        # Euclidian distance\n",
    "        diff = np.subtract(embeddings1, embeddings2)\n",
    "        dist = np.sum(np.square(diff),1)\n",
    "    elif distance_metric==1:\n",
    "        # Distance based on cosine similarity\n",
    "        dot = np.sum(np.multiply(embeddings1, embeddings2), axis=1)\n",
    "        norm = np.linalg.norm(embeddings1, axis=1) * np.linalg.norm(embeddings2, axis=1)\n",
    "        similarity = dot / norm\n",
    "        dist = np.arccos(similarity) / math.pi\n",
    "    else:\n",
    "        raise 'Undefined distance metric %d' % distance_metric\n",
    "\n",
    "    return dist\n",
    "\n",
    "def calculate_roc(thresholds, embeddings1, embeddings2, actual_issame, nrof_folds=10, distance_metric=0, subtract_mean=False):\n",
    "    assert(embeddings1.shape[0] == embeddings2.shape[0])\n",
    "    assert(embeddings1.shape[1] == embeddings2.shape[1])\n",
    "    nrof_pairs = min(len(actual_issame), embeddings1.shape[0])\n",
    "    nrof_thresholds = len(thresholds)\n",
    "    k_fold = KFold(n_splits=nrof_folds, shuffle=False)\n",
    "\n",
    "    tprs = np.zeros((nrof_folds,nrof_thresholds))\n",
    "    fprs = np.zeros((nrof_folds,nrof_thresholds))\n",
    "    accuracy = np.zeros((nrof_folds))\n",
    "\n",
    "    is_false_positive = []\n",
    "    is_false_negative = []\n",
    "\n",
    "    indices = np.arange(nrof_pairs)\n",
    "\n",
    "    for fold_idx, (train_set, test_set) in enumerate(k_fold.split(indices)):\n",
    "        if subtract_mean:\n",
    "            mean = np.mean(np.concatenate([embeddings1[train_set], embeddings2[train_set]]), axis=0)\n",
    "        else:\n",
    "            mean = 0.0\n",
    "        dist = distance(embeddings1-mean, embeddings2-mean, distance_metric)\n",
    "\n",
    "        # Find the best threshold for the fold\n",
    "        acc_train = np.zeros((nrof_thresholds))\n",
    "        for threshold_idx, threshold in enumerate(thresholds):\n",
    "            _, _, acc_train[threshold_idx], _ ,_ = calculate_accuracy(threshold, dist[train_set], actual_issame[train_set])\n",
    "        best_threshold_index = np.argmax(acc_train)\n",
    "        for threshold_idx, threshold in enumerate(thresholds):\n",
    "            tprs[fold_idx,threshold_idx], fprs[fold_idx,threshold_idx], _, _, _ = calculate_accuracy(threshold, dist[test_set], actual_issame[test_set])\n",
    "        _, _, accuracy[fold_idx], is_fp, is_fn = calculate_accuracy(thresholds[best_threshold_index], dist[test_set], actual_issame[test_set])\n",
    "\n",
    "        tpr = np.mean(tprs,0)\n",
    "        fpr = np.mean(fprs,0)\n",
    "        is_false_positive.extend(is_fp)\n",
    "        is_false_negative.extend(is_fn)\n",
    "\n",
    "    return tpr, fpr, accuracy, is_false_positive, is_false_negative\n",
    "\n",
    "def calculate_accuracy(threshold, dist, actual_issame):\n",
    "    predict_issame = np.less(dist, threshold)\n",
    "    tp = np.sum(np.logical_and(predict_issame, actual_issame))\n",
    "    fp = np.sum(np.logical_and(predict_issame, np.logical_not(actual_issame)))\n",
    "    tn = np.sum(np.logical_and(np.logical_not(predict_issame), np.logical_not(actual_issame)))\n",
    "    fn = np.sum(np.logical_and(np.logical_not(predict_issame), actual_issame))\n",
    "\n",
    "    is_fp = np.logical_and(predict_issame, np.logical_not(actual_issame))\n",
    "    is_fn = np.logical_and(np.logical_not(predict_issame), actual_issame)\n",
    "\n",
    "    tpr = 0 if (tp+fn==0) else float(tp) / float(tp+fn)\n",
    "    fpr = 0 if (fp+tn==0) else float(fp) / float(fp+tn)\n",
    "    acc = float(tp+tn)/dist.size\n",
    "    return tpr, fpr, acc, is_fp, is_fn\n",
    "\n",
    "def calculate_val(thresholds, embeddings1, embeddings2, actual_issame, far_target, nrof_folds=10, distance_metric=0, subtract_mean=False):\n",
    "    assert(embeddings1.shape[0] == embeddings2.shape[0])\n",
    "    assert(embeddings1.shape[1] == embeddings2.shape[1])\n",
    "    nrof_pairs = min(len(actual_issame), embeddings1.shape[0])\n",
    "    nrof_thresholds = len(thresholds)\n",
    "    k_fold = KFold(n_splits=nrof_folds, shuffle=False)\n",
    "\n",
    "    val = np.zeros(nrof_folds)\n",
    "    far = np.zeros(nrof_folds)\n",
    "\n",
    "    indices = np.arange(nrof_pairs)\n",
    "\n",
    "    for fold_idx, (train_set, test_set) in enumerate(k_fold.split(indices)):\n",
    "        if subtract_mean:\n",
    "            mean = np.mean(np.concatenate([embeddings1[train_set], embeddings2[train_set]]), axis=0)\n",
    "        else:\n",
    "            mean = 0.0\n",
    "        dist = distance(embeddings1-mean, embeddings2-mean, distance_metric)\n",
    "\n",
    "        # Find the threshold that gives FAR = far_target\n",
    "        far_train = np.zeros(nrof_thresholds)\n",
    "        for threshold_idx, threshold in enumerate(thresholds):\n",
    "            _, far_train[threshold_idx] = calculate_val_far(threshold, dist[train_set], actual_issame[train_set])\n",
    "        if np.max(far_train)>=far_target:\n",
    "            f = interpolate.interp1d(far_train, thresholds, kind='slinear')\n",
    "            threshold = f(far_target)\n",
    "        else:\n",
    "            threshold = 0.0\n",
    "\n",
    "        val[fold_idx], far[fold_idx] = calculate_val_far(threshold, dist[test_set], actual_issame[test_set])\n",
    "\n",
    "    val_mean = np.mean(val)\n",
    "    far_mean = np.mean(far)\n",
    "    val_std = np.std(val)\n",
    "    return val_mean, val_std, far_mean\n",
    "\n",
    "def calculate_val_far(threshold, dist, actual_issame):\n",
    "    predict_issame = np.less(dist, threshold)\n",
    "    true_accept = np.sum(np.logical_and(predict_issame, actual_issame))\n",
    "    false_accept = np.sum(np.logical_and(predict_issame, np.logical_not(actual_issame)))\n",
    "    n_same = np.sum(actual_issame)\n",
    "    n_diff = np.sum(np.logical_not(actual_issame))\n",
    "    val = float(true_accept) / float(n_same)\n",
    "    far = float(false_accept) / float(n_diff)\n",
    "    return val, far\n",
    "\n",
    "\n",
    "\n",
    "def evaluate(embeddings, actual_issame, nrof_folds=10, distance_metric=0, subtract_mean=False):\n",
    "    # Calculate evaluation metrics\n",
    "    thresholds = np.arange(0, 4, 0.01)\n",
    "    embeddings1 = embeddings[0::2]\n",
    "    embeddings2 = embeddings[1::2]\n",
    "    tpr, fpr, accuracy, fp, fn  = calculate_roc(thresholds, embeddings1, embeddings2,\n",
    "        np.asarray(actual_issame), nrof_folds=nrof_folds, distance_metric=distance_metric, subtract_mean=subtract_mean)\n",
    "    thresholds = np.arange(0, 4, 0.001)\n",
    "    val, val_std, far = calculate_val(thresholds, embeddings1, embeddings2,\n",
    "        np.asarray(actual_issame), 1e-3, nrof_folds=nrof_folds, distance_metric=distance_metric, subtract_mean=subtract_mean)\n",
    "    return tpr, fpr, accuracy, val, val_std, far, fp, fn\n",
    "\n",
    "def add_extension(path):\n",
    "    if os.path.exists(path+'.jpg'):\n",
    "        return path+'.jpg'\n",
    "    elif os.path.exists(path+'.png'):\n",
    "        return path+'.png'\n",
    "    else:\n",
    "        raise RuntimeError('No file \"%s\" with extension png or jpg.' % path)\n",
    "\n",
    "def get_paths(lfw_dir, pairs):\n",
    "    nrof_skipped_pairs = 0\n",
    "    path_list = []\n",
    "    issame_list = []\n",
    "    for pair in pairs:\n",
    "        if len(pair) == 3:\n",
    "            path0 = add_extension(os.path.join(lfw_dir, pair[0], pair[0] + '_' + '%04d' % int(pair[1])))\n",
    "            path1 = add_extension(os.path.join(lfw_dir, pair[0], pair[0] + '_' + '%04d' % int(pair[2])))\n",
    "            issame = True\n",
    "        elif len(pair) == 4:\n",
    "            path0 = add_extension(os.path.join(lfw_dir, pair[0], pair[0] + '_' + '%04d' % int(pair[1])))\n",
    "            path1 = add_extension(os.path.join(lfw_dir, pair[2], pair[2] + '_' + '%04d' % int(pair[3])))\n",
    "            issame = False\n",
    "        if os.path.exists(path0) and os.path.exists(path1):    # Only add the pair if both paths exist\n",
    "            path_list += (path0,path1)\n",
    "            issame_list.append(issame)\n",
    "        else:\n",
    "            nrof_skipped_pairs += 1\n",
    "    if nrof_skipped_pairs>0:\n",
    "        print('Skipped %d image pairs' % nrof_skipped_pairs)\n",
    "\n",
    "    return path_list, issame_list\n",
    "\n",
    "def read_pairs(pairs_filename):\n",
    "    pairs = []\n",
    "    with open(pairs_filename, 'r') as f:\n",
    "        for line in f.readlines()[1:]:\n",
    "            pair = line.strip().split()\n",
    "            pairs.append(pair)\n",
    "    return np.array(pairs, dtype=object)"
   ]
  },
  {
   "cell_type": "code",
   "execution_count": 10,
   "metadata": {
    "collapsed": false,
    "jupyter": {
     "outputs_hidden": false
    },
    "pycharm": {
     "name": "#%%\n"
    }
   },
   "outputs": [],
   "source": [
    "pairs = read_pairs(pairs_path)\n",
    "path_list, issame_list = get_paths(data_dir+'_cropped', pairs)\n",
    "\n",
    "# Get the values of all keys\n",
    "values = embeddings_dict.keys()\n",
    "\n",
    "# Print the values\n",
    "#for value in values:\n",
    "    #print(value)\n",
    "\n",
    "#print(path_list)\n",
    "embeddings = np.array([embeddings_dict[path] for path in path_list])\n",
    "tpr, fpr, accuracy, val, val_std, far, fp, fn = evaluate(embeddings, issame_list)"
   ]
  },
  {
   "cell_type": "code",
   "execution_count": 16,
   "metadata": {
    "collapsed": false,
    "jupyter": {
     "outputs_hidden": false
    },
    "pycharm": {
     "name": "#%%\n"
    }
   },
   "outputs": [
    {
     "name": "stdout",
     "output_type": "stream",
     "text": [
      "tpr: \n",
      " [0.00000000e+00 0.00000000e+00 0.00000000e+00 3.33333333e-04\n",
      " 3.33333333e-04 6.66666667e-04 1.66666667e-03 1.66666667e-03\n",
      " 3.33333333e-03 5.00000000e-03 6.00000000e-03 9.00000000e-03\n",
      " 1.26666667e-02 1.63333333e-02 2.03333333e-02 2.83333333e-02\n",
      " 3.40000000e-02 4.50000000e-02 5.53333333e-02 6.56666667e-02\n",
      " 7.60000000e-02 8.46666667e-02 9.86666667e-02 1.09333333e-01\n",
      " 1.22666667e-01 1.36000000e-01 1.52000000e-01 1.72333333e-01\n",
      " 1.88000000e-01 2.07666667e-01 2.24333333e-01 2.45000000e-01\n",
      " 2.57666667e-01 2.78666667e-01 2.96666667e-01 3.14000000e-01\n",
      " 3.32333333e-01 3.50666667e-01 3.72666667e-01 3.93000000e-01\n",
      " 4.16000000e-01 4.33000000e-01 4.55000000e-01 4.72333333e-01\n",
      " 4.89333333e-01 5.08333333e-01 5.26000000e-01 5.40333333e-01\n",
      " 5.60000000e-01 5.82000000e-01 6.00666667e-01 6.19000000e-01\n",
      " 6.33333333e-01 6.51666667e-01 6.67000000e-01 6.84666667e-01\n",
      " 6.99666667e-01 7.12333333e-01 7.25000000e-01 7.38666667e-01\n",
      " 7.51000000e-01 7.62666667e-01 7.71666667e-01 7.80666667e-01\n",
      " 7.91000000e-01 7.99000000e-01 8.09000000e-01 8.19000000e-01\n",
      " 8.29000000e-01 8.41666667e-01 8.48666667e-01 8.55333333e-01\n",
      " 8.60666667e-01 8.67333333e-01 8.75000000e-01 8.80333333e-01\n",
      " 8.86000000e-01 8.90666667e-01 8.97666667e-01 9.03000000e-01\n",
      " 9.08666667e-01 9.16666667e-01 9.21000000e-01 9.25666667e-01\n",
      " 9.30666667e-01 9.34333333e-01 9.38000000e-01 9.42000000e-01\n",
      " 9.46666667e-01 9.51000000e-01 9.54000000e-01 9.56666667e-01\n",
      " 9.58333333e-01 9.61000000e-01 9.64666667e-01 9.66333333e-01\n",
      " 9.68333333e-01 9.70333333e-01 9.72000000e-01 9.74333333e-01\n",
      " 9.76666667e-01 9.78000000e-01 9.80000000e-01 9.81666667e-01\n",
      " 9.83666667e-01 9.86000000e-01 9.86333333e-01 9.87333333e-01\n",
      " 9.88333333e-01 9.88333333e-01 9.88666667e-01 9.90333333e-01\n",
      " 9.91000000e-01 9.92000000e-01 9.92333333e-01 9.92666667e-01\n",
      " 9.93333333e-01 9.93666667e-01 9.94000000e-01 9.94333333e-01\n",
      " 9.94666667e-01 9.94666667e-01 9.95333333e-01 9.95333333e-01\n",
      " 9.95333333e-01 9.95333333e-01 9.95666667e-01 9.96000000e-01\n",
      " 9.96333333e-01 9.96333333e-01 9.96666667e-01 9.97000000e-01\n",
      " 9.97000000e-01 9.97000000e-01 9.97000000e-01 9.97333333e-01\n",
      " 9.97666667e-01 9.97666667e-01 9.97666667e-01 9.97666667e-01\n",
      " 9.98000000e-01 9.98333333e-01 9.98666667e-01 9.98666667e-01\n",
      " 9.98666667e-01 9.98666667e-01 9.98666667e-01 9.98666667e-01\n",
      " 9.98666667e-01 9.99000000e-01 9.99333333e-01 9.99333333e-01\n",
      " 9.99333333e-01 9.99333333e-01 9.99333333e-01 9.99333333e-01\n",
      " 9.99333333e-01 9.99333333e-01 9.99333333e-01 9.99333333e-01\n",
      " 9.99333333e-01 9.99333333e-01 9.99333333e-01 9.99333333e-01\n",
      " 9.99333333e-01 9.99333333e-01 9.99333333e-01 9.99333333e-01\n",
      " 9.99333333e-01 9.99333333e-01 9.99333333e-01 9.99333333e-01\n",
      " 9.99666667e-01 9.99666667e-01 9.99666667e-01 9.99666667e-01\n",
      " 9.99666667e-01 9.99666667e-01 9.99666667e-01 9.99666667e-01\n",
      " 9.99666667e-01 9.99666667e-01 9.99666667e-01 9.99666667e-01\n",
      " 9.99666667e-01 9.99666667e-01 9.99666667e-01 9.99666667e-01\n",
      " 9.99666667e-01 9.99666667e-01 9.99666667e-01 9.99666667e-01\n",
      " 9.99666667e-01 9.99666667e-01 9.99666667e-01 9.99666667e-01\n",
      " 9.99666667e-01 9.99666667e-01 1.00000000e+00 1.00000000e+00\n",
      " 1.00000000e+00 1.00000000e+00 1.00000000e+00 1.00000000e+00\n",
      " 1.00000000e+00 1.00000000e+00 1.00000000e+00 1.00000000e+00\n",
      " 1.00000000e+00 1.00000000e+00 1.00000000e+00 1.00000000e+00\n",
      " 1.00000000e+00 1.00000000e+00 1.00000000e+00 1.00000000e+00\n",
      " 1.00000000e+00 1.00000000e+00 1.00000000e+00 1.00000000e+00\n",
      " 1.00000000e+00 1.00000000e+00 1.00000000e+00 1.00000000e+00\n",
      " 1.00000000e+00 1.00000000e+00 1.00000000e+00 1.00000000e+00\n",
      " 1.00000000e+00 1.00000000e+00 1.00000000e+00 1.00000000e+00\n",
      " 1.00000000e+00 1.00000000e+00 1.00000000e+00 1.00000000e+00\n",
      " 1.00000000e+00 1.00000000e+00 1.00000000e+00 1.00000000e+00\n",
      " 1.00000000e+00 1.00000000e+00 1.00000000e+00 1.00000000e+00\n",
      " 1.00000000e+00 1.00000000e+00 1.00000000e+00 1.00000000e+00\n",
      " 1.00000000e+00 1.00000000e+00 1.00000000e+00 1.00000000e+00\n",
      " 1.00000000e+00 1.00000000e+00 1.00000000e+00 1.00000000e+00\n",
      " 1.00000000e+00 1.00000000e+00 1.00000000e+00 1.00000000e+00\n",
      " 1.00000000e+00 1.00000000e+00 1.00000000e+00 1.00000000e+00\n",
      " 1.00000000e+00 1.00000000e+00 1.00000000e+00 1.00000000e+00\n",
      " 1.00000000e+00 1.00000000e+00 1.00000000e+00 1.00000000e+00\n",
      " 1.00000000e+00 1.00000000e+00 1.00000000e+00 1.00000000e+00\n",
      " 1.00000000e+00 1.00000000e+00 1.00000000e+00 1.00000000e+00\n",
      " 1.00000000e+00 1.00000000e+00 1.00000000e+00 1.00000000e+00\n",
      " 1.00000000e+00 1.00000000e+00 1.00000000e+00 1.00000000e+00\n",
      " 1.00000000e+00 1.00000000e+00 1.00000000e+00 1.00000000e+00\n",
      " 1.00000000e+00 1.00000000e+00 1.00000000e+00 1.00000000e+00\n",
      " 1.00000000e+00 1.00000000e+00 1.00000000e+00 1.00000000e+00\n",
      " 1.00000000e+00 1.00000000e+00 1.00000000e+00 1.00000000e+00\n",
      " 1.00000000e+00 1.00000000e+00 1.00000000e+00 1.00000000e+00\n",
      " 1.00000000e+00 1.00000000e+00 1.00000000e+00 1.00000000e+00\n",
      " 1.00000000e+00 1.00000000e+00 1.00000000e+00 1.00000000e+00\n",
      " 1.00000000e+00 1.00000000e+00 1.00000000e+00 1.00000000e+00\n",
      " 1.00000000e+00 1.00000000e+00 1.00000000e+00 1.00000000e+00\n",
      " 1.00000000e+00 1.00000000e+00 1.00000000e+00 1.00000000e+00\n",
      " 1.00000000e+00 1.00000000e+00 1.00000000e+00 1.00000000e+00\n",
      " 1.00000000e+00 1.00000000e+00 1.00000000e+00 1.00000000e+00\n",
      " 1.00000000e+00 1.00000000e+00 1.00000000e+00 1.00000000e+00\n",
      " 1.00000000e+00 1.00000000e+00 1.00000000e+00 1.00000000e+00\n",
      " 1.00000000e+00 1.00000000e+00 1.00000000e+00 1.00000000e+00\n",
      " 1.00000000e+00 1.00000000e+00 1.00000000e+00 1.00000000e+00\n",
      " 1.00000000e+00 1.00000000e+00 1.00000000e+00 1.00000000e+00\n",
      " 1.00000000e+00 1.00000000e+00 1.00000000e+00 1.00000000e+00\n",
      " 1.00000000e+00 1.00000000e+00 1.00000000e+00 1.00000000e+00\n",
      " 1.00000000e+00 1.00000000e+00 1.00000000e+00 1.00000000e+00\n",
      " 1.00000000e+00 1.00000000e+00 1.00000000e+00 1.00000000e+00\n",
      " 1.00000000e+00 1.00000000e+00 1.00000000e+00 1.00000000e+00\n",
      " 1.00000000e+00 1.00000000e+00 1.00000000e+00 1.00000000e+00\n",
      " 1.00000000e+00 1.00000000e+00 1.00000000e+00 1.00000000e+00\n",
      " 1.00000000e+00 1.00000000e+00 1.00000000e+00 1.00000000e+00\n",
      " 1.00000000e+00 1.00000000e+00 1.00000000e+00 1.00000000e+00\n",
      " 1.00000000e+00 1.00000000e+00 1.00000000e+00 1.00000000e+00\n",
      " 1.00000000e+00 1.00000000e+00 1.00000000e+00 1.00000000e+00]\n",
      " \n",
      "fpr: \n",
      " [0.00000000e+00 0.00000000e+00 0.00000000e+00 0.00000000e+00\n",
      " 0.00000000e+00 0.00000000e+00 0.00000000e+00 0.00000000e+00\n",
      " 0.00000000e+00 0.00000000e+00 0.00000000e+00 0.00000000e+00\n",
      " 0.00000000e+00 0.00000000e+00 0.00000000e+00 0.00000000e+00\n",
      " 0.00000000e+00 0.00000000e+00 0.00000000e+00 0.00000000e+00\n",
      " 0.00000000e+00 0.00000000e+00 0.00000000e+00 0.00000000e+00\n",
      " 0.00000000e+00 0.00000000e+00 0.00000000e+00 0.00000000e+00\n",
      " 0.00000000e+00 0.00000000e+00 0.00000000e+00 0.00000000e+00\n",
      " 0.00000000e+00 0.00000000e+00 0.00000000e+00 0.00000000e+00\n",
      " 0.00000000e+00 0.00000000e+00 0.00000000e+00 0.00000000e+00\n",
      " 0.00000000e+00 0.00000000e+00 0.00000000e+00 0.00000000e+00\n",
      " 0.00000000e+00 0.00000000e+00 0.00000000e+00 0.00000000e+00\n",
      " 0.00000000e+00 0.00000000e+00 0.00000000e+00 0.00000000e+00\n",
      " 0.00000000e+00 0.00000000e+00 0.00000000e+00 0.00000000e+00\n",
      " 0.00000000e+00 0.00000000e+00 0.00000000e+00 0.00000000e+00\n",
      " 0.00000000e+00 0.00000000e+00 0.00000000e+00 0.00000000e+00\n",
      " 0.00000000e+00 0.00000000e+00 0.00000000e+00 0.00000000e+00\n",
      " 0.00000000e+00 3.33333333e-04 3.33333333e-04 3.33333333e-04\n",
      " 3.33333333e-04 3.33333333e-04 3.33333333e-04 6.66666667e-04\n",
      " 6.66666667e-04 6.66666667e-04 6.66666667e-04 6.66666667e-04\n",
      " 6.66666667e-04 6.66666667e-04 6.66666667e-04 6.66666667e-04\n",
      " 6.66666667e-04 6.66666667e-04 6.66666667e-04 6.66666667e-04\n",
      " 6.66666667e-04 6.66666667e-04 6.66666667e-04 6.66666667e-04\n",
      " 6.66666667e-04 6.66666667e-04 6.66666667e-04 6.66666667e-04\n",
      " 6.66666667e-04 1.00000000e-03 1.00000000e-03 1.33333333e-03\n",
      " 1.33333333e-03 1.33333333e-03 1.66666667e-03 1.66666667e-03\n",
      " 1.66666667e-03 1.66666667e-03 2.00000000e-03 2.66666667e-03\n",
      " 3.00000000e-03 3.66666667e-03 3.66666667e-03 4.00000000e-03\n",
      " 4.66666667e-03 5.00000000e-03 5.33333333e-03 5.66666667e-03\n",
      " 6.33333333e-03 6.33333333e-03 7.00000000e-03 8.00000000e-03\n",
      " 9.33333333e-03 1.13333333e-02 1.20000000e-02 1.33333333e-02\n",
      " 1.50000000e-02 1.60000000e-02 1.90000000e-02 2.00000000e-02\n",
      " 2.20000000e-02 2.30000000e-02 2.40000000e-02 2.53333333e-02\n",
      " 2.76666667e-02 2.96666667e-02 3.23333333e-02 3.40000000e-02\n",
      " 3.63333333e-02 3.80000000e-02 4.10000000e-02 4.60000000e-02\n",
      " 4.90000000e-02 5.33333333e-02 5.60000000e-02 5.80000000e-02\n",
      " 6.16666667e-02 6.56666667e-02 7.00000000e-02 7.40000000e-02\n",
      " 8.03333333e-02 8.33333333e-02 8.66666667e-02 9.23333333e-02\n",
      " 9.70000000e-02 1.03000000e-01 1.07333333e-01 1.11333333e-01\n",
      " 1.18000000e-01 1.26333333e-01 1.34666667e-01 1.39666667e-01\n",
      " 1.44666667e-01 1.54333333e-01 1.63333333e-01 1.70333333e-01\n",
      " 1.78666667e-01 1.86666667e-01 1.96333333e-01 2.07666667e-01\n",
      " 2.14000000e-01 2.23000000e-01 2.32000000e-01 2.42000000e-01\n",
      " 2.50000000e-01 2.62666667e-01 2.71666667e-01 2.80666667e-01\n",
      " 2.90666667e-01 3.00333333e-01 3.09333333e-01 3.20333333e-01\n",
      " 3.32666667e-01 3.43333333e-01 3.52666667e-01 3.61666667e-01\n",
      " 3.77000000e-01 3.87333333e-01 3.99333333e-01 4.13000000e-01\n",
      " 4.25333333e-01 4.40333333e-01 4.52000000e-01 4.66333333e-01\n",
      " 4.81000000e-01 4.93000000e-01 5.10333333e-01 5.22666667e-01\n",
      " 5.39000000e-01 5.55000000e-01 5.68000000e-01 5.83333333e-01\n",
      " 5.98333333e-01 6.09000000e-01 6.22000000e-01 6.34333333e-01\n",
      " 6.44666667e-01 6.58000000e-01 6.71000000e-01 6.83333333e-01\n",
      " 6.96333333e-01 7.07666667e-01 7.19000000e-01 7.29000000e-01\n",
      " 7.38000000e-01 7.46000000e-01 7.54333333e-01 7.62333333e-01\n",
      " 7.73666667e-01 7.82333333e-01 7.92000000e-01 8.01000000e-01\n",
      " 8.10333333e-01 8.22000000e-01 8.32000000e-01 8.36666667e-01\n",
      " 8.45666667e-01 8.54333333e-01 8.60666667e-01 8.67333333e-01\n",
      " 8.73333333e-01 8.83666667e-01 8.90666667e-01 8.98333333e-01\n",
      " 9.04666667e-01 9.12000000e-01 9.20000000e-01 9.26333333e-01\n",
      " 9.30333333e-01 9.33333333e-01 9.37000000e-01 9.41333333e-01\n",
      " 9.45333333e-01 9.50333333e-01 9.53000000e-01 9.57666667e-01\n",
      " 9.60333333e-01 9.62000000e-01 9.62666667e-01 9.65333333e-01\n",
      " 9.68666667e-01 9.72000000e-01 9.74333333e-01 9.76666667e-01\n",
      " 9.78333333e-01 9.80666667e-01 9.82000000e-01 9.83000000e-01\n",
      " 9.84000000e-01 9.85000000e-01 9.86333333e-01 9.89000000e-01\n",
      " 9.89666667e-01 9.90000000e-01 9.91666667e-01 9.93000000e-01\n",
      " 9.93333333e-01 9.94333333e-01 9.95666667e-01 9.96333333e-01\n",
      " 9.97333333e-01 9.98000000e-01 9.98000000e-01 9.98666667e-01\n",
      " 9.98666667e-01 9.98666667e-01 9.99000000e-01 9.99000000e-01\n",
      " 9.99000000e-01 9.99000000e-01 9.99000000e-01 9.99000000e-01\n",
      " 9.99000000e-01 9.99000000e-01 9.99000000e-01 9.99000000e-01\n",
      " 9.99000000e-01 9.99333333e-01 9.99333333e-01 9.99666667e-01\n",
      " 9.99666667e-01 9.99666667e-01 9.99666667e-01 9.99666667e-01\n",
      " 9.99666667e-01 9.99666667e-01 9.99666667e-01 9.99666667e-01\n",
      " 9.99666667e-01 9.99666667e-01 9.99666667e-01 9.99666667e-01\n",
      " 9.99666667e-01 1.00000000e+00 1.00000000e+00 1.00000000e+00\n",
      " 1.00000000e+00 1.00000000e+00 1.00000000e+00 1.00000000e+00\n",
      " 1.00000000e+00 1.00000000e+00 1.00000000e+00 1.00000000e+00\n",
      " 1.00000000e+00 1.00000000e+00 1.00000000e+00 1.00000000e+00\n",
      " 1.00000000e+00 1.00000000e+00 1.00000000e+00 1.00000000e+00\n",
      " 1.00000000e+00 1.00000000e+00 1.00000000e+00 1.00000000e+00\n",
      " 1.00000000e+00 1.00000000e+00 1.00000000e+00 1.00000000e+00\n",
      " 1.00000000e+00 1.00000000e+00 1.00000000e+00 1.00000000e+00\n",
      " 1.00000000e+00 1.00000000e+00 1.00000000e+00 1.00000000e+00\n",
      " 1.00000000e+00 1.00000000e+00 1.00000000e+00 1.00000000e+00\n",
      " 1.00000000e+00 1.00000000e+00 1.00000000e+00 1.00000000e+00\n",
      " 1.00000000e+00 1.00000000e+00 1.00000000e+00 1.00000000e+00\n",
      " 1.00000000e+00 1.00000000e+00 1.00000000e+00 1.00000000e+00\n",
      " 1.00000000e+00 1.00000000e+00 1.00000000e+00 1.00000000e+00\n",
      " 1.00000000e+00 1.00000000e+00 1.00000000e+00 1.00000000e+00\n",
      " 1.00000000e+00 1.00000000e+00 1.00000000e+00 1.00000000e+00\n",
      " 1.00000000e+00 1.00000000e+00 1.00000000e+00 1.00000000e+00\n",
      " 1.00000000e+00 1.00000000e+00 1.00000000e+00 1.00000000e+00\n",
      " 1.00000000e+00 1.00000000e+00 1.00000000e+00 1.00000000e+00\n",
      " 1.00000000e+00 1.00000000e+00 1.00000000e+00 1.00000000e+00\n",
      " 1.00000000e+00 1.00000000e+00 1.00000000e+00 1.00000000e+00\n",
      " 1.00000000e+00 1.00000000e+00 1.00000000e+00 1.00000000e+00\n",
      " 1.00000000e+00 1.00000000e+00 1.00000000e+00 1.00000000e+00\n",
      " 1.00000000e+00 1.00000000e+00 1.00000000e+00 1.00000000e+00\n",
      " 1.00000000e+00 1.00000000e+00 1.00000000e+00 1.00000000e+00]\n",
      " \n",
      "accuracy: \n",
      " [0.995      0.99666667 0.98333333 0.99333333 0.99       0.99833333\n",
      " 0.98666667 0.995      0.995      0.995     ]\n",
      " \n",
      "val: \n",
      " 0.9719999999999999\n",
      " \n",
      "val_std: \n",
      " 0.010873004286866725\n",
      " \n",
      "far: \n",
      " 0.0013333333333333335\n",
      " \n",
      " \n"
     ]
    },
    {
     "data": {
      "text/plain": [
       "0.9928333333333331"
      ]
     },
     "execution_count": 16,
     "metadata": {},
     "output_type": "execute_result"
    }
   ],
   "source": [
    "print(\"tpr: \\n\", tpr)\n",
    "print(\" \")\n",
    "print(\"fpr: \\n\", fpr)\n",
    "print(\" \")\n",
    "print(\"accuracy: \\n\", accuracy)\n",
    "print(\" \")\n",
    "print(\"val: \\n\", val)\n",
    "print(\" \")\n",
    "print(\"val_std: \\n\", val_std)\n",
    "print(\" \")\n",
    "print(\"far: \\n\", far)\n",
    "print(\" \")\n",
    "#print(\"fp: \\n\", fp)\n",
    "#print(\" \")\n",
    "#print(\"fn: \\n\", fn)\n",
    "print(\" \")\n",
    "np.mean(accuracy)"
   ]
  },
  {
   "cell_type": "code",
   "execution_count": null,
   "metadata": {},
   "outputs": [],
   "source": [
    "import sys\n",
    "import torchvision\n",
    "print(\"Pytorch: \", torch.__version__)\n",
    "print(\"Torchvision: \", torchvision.__version__)\n",
    "print(\"CUDA:\", torch.version.cuda)\n",
    "print(\"Python:\", sys.version)\n",
    "print(\"CuDNN:\", torch.backends.cudnn.version())"
   ]
  },
  {
   "cell_type": "code",
   "execution_count": null,
   "metadata": {},
   "outputs": [],
   "source": [
    "import logging\n",
    "\n",
    "# Configure the logging module\n",
    "logging.basicConfig(level=logging.INFO)\n",
    "\n",
    "# Define a dictionary\n",
    "#my_dict = {'key1': 'value1', 'key2': 'value2', 'key3': 'value3'}\n",
    "\n",
    "# Log the dictionary\n",
    "logging.info(f\"My dictionary: {path_list}\")"
   ]
  }
 ],
 "metadata": {
  "kernelspec": {
   "display_name": "Python 3 (ipykernel)",
   "language": "python",
   "name": "python3"
  },
  "language_info": {
   "codemirror_mode": {
    "name": "ipython",
    "version": 3
   },
   "file_extension": ".py",
   "mimetype": "text/x-python",
   "name": "python",
   "nbconvert_exporter": "python",
   "pygments_lexer": "ipython3",
   "version": "3.8.10"
  }
 },
 "nbformat": 4,
 "nbformat_minor": 4
}
