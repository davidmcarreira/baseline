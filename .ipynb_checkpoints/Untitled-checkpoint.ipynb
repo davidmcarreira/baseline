{
 "cells": [
  {
   "cell_type": "code",
   "execution_count": null,
   "id": "6f673960",
   "metadata": {},
   "outputs": [],
   "source": [
    "class DigiFace1M(Dataset):\n",
    "    \"\"\"\n",
    "    Custom dataset class for the DigiFace1M synthetic dataset\n",
    "    \"\"\"\n",
    "    def __init__():\n",
    "        \n",
    "    def __len__():\n",
    "        \n",
    "    def __getitem__():"
   ]
  }
 ],
 "metadata": {
  "kernelspec": {
   "display_name": "Python 3 (ipykernel)",
   "language": "python",
   "name": "python3"
  },
  "language_info": {
   "codemirror_mode": {
    "name": "ipython",
    "version": 3
   },
   "file_extension": ".py",
   "mimetype": "text/x-python",
   "name": "python",
   "nbconvert_exporter": "python",
   "pygments_lexer": "ipython3",
   "version": "3.8.10"
  }
 },
 "nbformat": 4,
 "nbformat_minor": 5
}
