{
 "cells": [
  {
   "cell_type": "code",
   "execution_count": 1,
   "id": "c6ee6455",
   "metadata": {},
   "outputs": [
    {
     "name": "stdout",
     "output_type": "stream",
     "text": [
      "The processing device is handled by the GPU.\n"
     ]
    }
   ],
   "source": [
    "import os\n",
    "import fnmatch\n",
    "\n",
    "import requests\n",
    "from zipfile import ZipFile\n",
    "\n",
    "from tqdm import tqdm\n",
    "\n",
    "from facenet_pytorch import MTCNN #Face detector\n",
    "from facenet_pytorch import InceptionResnetV1 #Feature extractor\n",
    "\n",
    "import torch\n",
    "import torchvision\n",
    "from torchvision.transforms import ToTensor\n",
    "from torch.utils.data import DataLoader\n",
    "import torch.utils.data as utils\n",
    "\n",
    "import matplotlib.pyplot as plt\n",
    "\n",
    "device = torch.device('cuda:0' if torch.cuda.is_available() else \"cpu\") # Defines the computation device (cuda:0 => GPU)\n",
    "print(\"The processing device is handled by the {}.\".format(\"GPU\" if device.type==\"cuda\" else \"cpu\"))"
   ]
  },
  {
   "cell_type": "code",
   "execution_count": null,
   "id": "2d972a34",
   "metadata": {},
   "outputs": [],
   "source": [
    "def unzip(dataset_path):\n",
    "    for root, dirs, files in os.walk(dataset_path):\n",
    "        for file in tqdm(fnmatch.filter(files,\"*.zip\") , desc='Extracting '):\n",
    "            file_name = os.path.join(root, file)\n",
    "            print(file_name)\n",
    "            zipf_obj = ZipFile(file_name)\n",
    "            zipf_obj.extractall(dataset_path)\n",
    "            zipf_obj.close()\n",
    "            os.remove(file_name)\n",
    "            print(\"%s removed\"%file)"
   ]
  },
  {
   "cell_type": "code",
   "execution_count": 2,
   "id": "f936d845",
   "metadata": {},
   "outputs": [],
   "source": [
    "def train_val_split():\n",
    "    os.chdir(\"/app\")\n",
    "    for split in [\"train\", \"val\"]:\n",
    "        split_path = \"app/datasets/\"\n",
    "        print(split)\n",
    "        print(split_path)\n",
    "        if (split == \"train\" and os.path.isdir(split_path)) or (split == \"val\" and os.path.isdir(split_path)):\n",
    "            print(\"The %s directory already exists\"%split)\n",
    "            #print(split_path)\n",
    "        else:\n",
    "            print(\"Creating folder for the %s directory\"%split)\n",
    "            os.makedirs(split_path)\n",
    "            #print(\"Folder created in ./datasets/%s\"%split)\n",
    "        #i = 0   \n",
    "        #for root, dirs, files in os.walk(os.getcwd()):\n",
    "            #while i < 20:\n",
    "                #print(root)\n",
    "                #print(dirs)\n",
    "                #print(files)\n",
    "                #i += 1"
   ]
  },
  {
   "cell_type": "code",
   "execution_count": 3,
   "id": "f4892cbe",
   "metadata": {},
   "outputs": [
    {
     "name": "stdout",
     "output_type": "stream",
     "text": [
      "train\n",
      "/\n",
      "The train directory already exists\n",
      "val\n",
      "/\n",
      "The val directory already exists\n"
     ]
    }
   ],
   "source": [
    "train_val_split()"
   ]
  },
  {
   "cell_type": "code",
   "execution_count": null,
   "id": "26d65390",
   "metadata": {},
   "outputs": [],
   "source": [
    "cwd = os.getcwd()\n",
    "\n",
    "dataset_path = os.path.join(cwd, \"datasets\")\n",
    "train_path = os.path.join(cwd, \"datasets/train/\")\n",
    "val_path = os.path.join(cwd, \"datasets/val/\")\n",
    "\n",
    "if os.path.exists(dataset_path) == False:\n",
    "    print(cwd)\n",
    "    os.mkdir(dataset_path)\n",
    "else:\n",
    "    print(\"Datasets directory found in %s\"%dataset_path)\n",
    "    if len(os.listdir(dataset_path)) != 0 and (i.startswith(\".\") for i in os.listdir(dataset_path)):\n",
    "        print(\"Conditions met. Extracting files...\")\n",
    "        unzip(dataset_path)\n",
    "    else:\n",
    "        for i in range(0, 10000, 2000):\n",
    "            source = \"https://facesyntheticspubwedata.blob.core.windows.net/wacv-2023/subjects_{}-{}_72_imgs.zip\".format(i, i+1999)\n",
    "            local_filename = \"P{}.zip\".format(i)\n",
    "            zip_request = requests.get(source, stream=True)\n",
    "            size_bytes= int(zip_request.headers.get('content-length', 0))\n",
    "            chunk = 1024 #KiB\n",
    "            progress_bar = tqdm(total=size_bytes, unit='iB', unit_scale=True)\n",
    "            try:\n",
    "                with open(os.path.join(dataset_path+\"/\"+local_filename), 'wb') as file:\n",
    "                    for data in zip_request.iter_content(chunk):\n",
    "                        progress_bar.update(len(data))\n",
    "                        file.write(data)\n",
    "                progress_bar.close()\n",
    "            except:\n",
    "                os.mkdir(dataset_path)\n",
    "                os.walk()\n",
    "        unzip(dataset_path)"
   ]
  },
  {
   "cell_type": "code",
   "execution_count": null,
   "id": "e75b90c3",
   "metadata": {},
   "outputs": [],
   "source": [
    "detector = MTCNN()\n",
    "\n",
    "model = InceptionResnetV1(pretrained='vggface2') # Facenet model with Inception1 as a backbone architecture and pretrained on VGGFace2 dataset\n",
    "model.to(device)\n",
    "\n",
    "print(model)\n",
    "for epoch in range(num_epochs):\n",
    "    print(\"Epoch {}/{}\".format(epoch+1, epoch+1))\n",
    "    for phase in [\"train\", \"eval\"]:\n",
    "        if phase == \"train\":\n",
    "            model.train().to(device) # Training phase of the model\n",
    "        elif phase == \"eval\":\n",
    "            model.eval().to(device) # Evaluating phas eof the model to determine the best one"
   ]
  }
 ],
 "metadata": {
  "kernelspec": {
   "display_name": "Python 3 (ipykernel)",
   "language": "python",
   "name": "python3"
  },
  "language_info": {
   "codemirror_mode": {
    "name": "ipython",
    "version": 3
   },
   "file_extension": ".py",
   "mimetype": "text/x-python",
   "name": "python",
   "nbconvert_exporter": "python",
   "pygments_lexer": "ipython3",
   "version": "3.8.10"
  }
 },
 "nbformat": 4,
 "nbformat_minor": 5
}
