{
 "cells": [
  {
   "cell_type": "code",
   "execution_count": 4,
   "id": "e6de9530",
   "metadata": {},
   "outputs": [
    {
     "name": "stdout",
     "output_type": "stream",
     "text": [
      "The processing device is handled by the GPU.\n"
     ]
    }
   ],
   "source": [
    "import os\n",
    "import fnmatch\n",
    "\n",
    "import requests\n",
    "from zipfile import ZipFile\n",
    "\n",
    "from tqdm import tqdm\n",
    "\n",
    "from facenet_pytorch import MTCNN #Face detector\n",
    "from facenet_pytorch import InceptionResnetV1 #Feature extractor\n",
    "\n",
    "import torch\n",
    "import torchvision\n",
    "from torchvision.transforms import ToTensor\n",
    "from torch.utils.data import DataLoader\n",
    "import torch.utils.data as utils\n",
    "\n",
    "import matplotlib.pyplot as plt\n",
    "\n",
    "device = torch.device('cuda:0' if torch.cuda.is_available() else \"cpu\") # Defines the computation device (cuda:0 => GPU)\n",
    "print(\"The processing device is handled by the {}.\".format(\"GPU\" if device.type==\"cuda\" else \"cpu\"))"
   ]
  },
  {
   "cell_type": "code",
   "execution_count": 5,
   "id": "33a8d8e5",
   "metadata": {},
   "outputs": [],
   "source": [
    "def unzip(dataset_path):\n",
    "    for root, dirs, files in os.walk(dataset_path):\n",
    "        for file in tqdm(fnmatch.filter(files,\"*.zip\") , desc='Extracting '):\n",
    "            file_name = os.path.join(root, file)\n",
    "            print(file_name)\n",
    "            zipf_obj = ZipFile(file_name)\n",
    "            zipf_obj.extractall(dataset_path)\n",
    "            zipf_obj.close()\n",
    "            os.remove(file_name)\n",
    "            print(\"%s removed\"%file)"
   ]
  },
  {
   "cell_type": "code",
   "execution_count": 6,
   "id": "86627600",
   "metadata": {},
   "outputs": [
    {
     "name": "stdout",
     "output_type": "stream",
     "text": [
      "Datasets directory found in /app/datasets\n"
     ]
    },
    {
     "name": "stderr",
     "output_type": "stream",
     "text": [
      "100% 2.94G/2.94G [05:20<00:00, 9.16MiB/s]\n",
      "100% 2.94G/2.94G [05:25<00:00, 9.01MiB/s]\n",
      "100% 2.94G/2.94G [05:26<00:00, 9.00MiB/s]\n",
      "100% 2.94G/2.94G [05:18<00:00, 9.25MiB/s]\n",
      "100% 2.93G/2.93G [05:29<00:00, 8.89MiB/s]\n",
      "Extracting :   0% 0/5 [00:00<?, ?it/s]"
     ]
    },
    {
     "name": "stdout",
     "output_type": "stream",
     "text": [
      "/app/datasets/P6000.zip\n"
     ]
    },
    {
     "name": "stderr",
     "output_type": "stream",
     "text": [
      "Extracting :  20% 1/5 [00:08<00:34,  8.56s/it]"
     ]
    },
    {
     "name": "stdout",
     "output_type": "stream",
     "text": [
      "P6000.zip removed\n",
      "/app/datasets/P2000.zip\n"
     ]
    },
    {
     "name": "stderr",
     "output_type": "stream",
     "text": [
      "Extracting :  40% 2/5 [00:17<00:25,  8.61s/it]"
     ]
    },
    {
     "name": "stdout",
     "output_type": "stream",
     "text": [
      "P2000.zip removed\n",
      "/app/datasets/P0.zip\n"
     ]
    },
    {
     "name": "stderr",
     "output_type": "stream",
     "text": [
      "Extracting :  60% 3/5 [00:26<00:17,  8.88s/it]"
     ]
    },
    {
     "name": "stdout",
     "output_type": "stream",
     "text": [
      "P0.zip removed\n",
      "/app/datasets/P4000.zip\n"
     ]
    },
    {
     "name": "stderr",
     "output_type": "stream",
     "text": [
      "Extracting :  80% 4/5 [00:35<00:08,  8.90s/it]"
     ]
    },
    {
     "name": "stdout",
     "output_type": "stream",
     "text": [
      "P4000.zip removed\n",
      "/app/datasets/P8000.zip\n"
     ]
    },
    {
     "name": "stderr",
     "output_type": "stream",
     "text": [
      "Extracting : 100% 5/5 [00:44<00:00,  8.89s/it]"
     ]
    },
    {
     "name": "stdout",
     "output_type": "stream",
     "text": [
      "P8000.zip removed\n"
     ]
    },
    {
     "name": "stderr",
     "output_type": "stream",
     "text": [
      "\n"
     ]
    }
   ],
   "source": [
    "cwd = os.getcwd()\n",
    "\n",
    "dataset_path = os.path.join(cwd, \"datasets\")\n",
    "\n",
    "if os.path.exists(dataset_path) == False:\n",
    "    print(cwd)\n",
    "    os.mkdir(dataset_path)\n",
    "else:\n",
    "    print(\"Datasets directory found in %s\"%dataset_path)\n",
    "    if len(os.listdir(dataset_path)) != 0 and (i.startswith(\".\") for i in os.listdir(dataset_path)):\n",
    "        print(\"Conditions met. Extracting files...\")\n",
    "        unzip(dataset_path)\n",
    "    else:\n",
    "        for i in range(0, 10000, 2000):\n",
    "            source = \"https://facesyntheticspubwedata.blob.core.windows.net/wacv-2023/subjects_{}-{}_72_imgs.zip\".format(i, i+1999)\n",
    "            local_filename = \"P{}.zip\".format(i)\n",
    "            zip_request = requests.get(source, stream=True)\n",
    "            size_bytes= int(zip_request.headers.get('content-length', 0))\n",
    "            chunk = 1024 #KiB\n",
    "            progress_bar = tqdm(total=size_bytes, unit='iB', unit_scale=True)\n",
    "            try:\n",
    "                with open(os.path.join(dataset_path+\"/\"+local_filename), 'wb') as file:\n",
    "                    for data in zip_request.iter_content(chunk):\n",
    "                        progress_bar.update(len(data))\n",
    "                        file.write(data)\n",
    "                progress_bar.close()\n",
    "            except:\n",
    "                os.mkdir(dataset_path)\n",
    "                os.walk()\n",
    "        unzip(dataset_path)"
   ]
  },
  {
   "cell_type": "code",
   "execution_count": null,
   "id": "ead57604",
   "metadata": {},
   "outputs": [],
   "source": []
  }
 ],
 "metadata": {
  "kernelspec": {
   "display_name": "Python 3 (ipykernel)",
   "language": "python",
   "name": "python3"
  },
  "language_info": {
   "codemirror_mode": {
    "name": "ipython",
    "version": 3
   },
   "file_extension": ".py",
   "mimetype": "text/x-python",
   "name": "python",
   "nbconvert_exporter": "python",
   "pygments_lexer": "ipython3",
   "version": "3.8.10"
  }
 },
 "nbformat": 4,
 "nbformat_minor": 5
}
